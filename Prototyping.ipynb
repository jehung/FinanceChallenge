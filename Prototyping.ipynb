{
 "cells": [
  {
   "cell_type": "markdown",
   "metadata": {
    "collapsed": true
   },
   "source": [
    "# First iteration"
   ]
  },
  {
   "cell_type": "markdown",
   "metadata": {},
   "source": [
    "## Part 1: Get data and build model"
   ]
  },
  {
   "cell_type": "markdown",
   "metadata": {},
   "source": []
  },
  {
   "cell_type": "code",
   "execution_count": 1,
   "metadata": {
    "collapsed": true
   },
   "outputs": [],
   "source": [
    "import numpy as np\n",
    "import pandas as pd\n",
    "from datetime import datetime\n",
    "from dateutil.relativedelta import relativedelta\n",
    "from sklearn.model_selection import train_test_split\n",
    "from sklearn.neural_network import MLPClassifier\n",
    "from sklearn.model_selection import GridSearchCV, StratifiedShuffleSplit\n",
    "from sklearn.preprocessing import label_binarize\n",
    "from sklearn.preprocessing import scale\n",
    "from sklearn.model_selection import cross_val_predict\n",
    "from sklearn.metrics import roc_auc_score\n",
    "from joblib import Parallel, delayed\n",
    "pd.set_option('display.max_columns', None)"
   ]
  },
  {
   "cell_type": "code",
   "execution_count": 2,
   "metadata": {
    "collapsed": true
   },
   "outputs": [],
   "source": [
    "def get_data():\n",
    "    dir = 'D:\\\\Backups\\\\StemData\\\\'\n",
    "    #file_list = ['sample_orig_2016.txt', 'sample_svcg_2016.txt']\n",
    "    file = 'sample_orig_2016.txt'\n",
    "    file1 = 'sample_svcg_2016.txt'\n",
    "\n",
    "    raw = pd.read_csv(dir+file, sep='|', header=None)\n",
    "    raw.columns = ['credit_score', 'first_pmt_date', 'first_time', 'mat_date', 'msa', 'mi_perc', 'units',\n",
    "                    'occ_status', 'ocltv', 'odti', 'oupb', 'oltv', 'oint_rate', 'channel', 'ppm', 'fixed_rate',\n",
    "                    'state', 'prop_type','zip','loan_num', 'loan_purpose','oterm','num_borrowers', 'seller_name',\n",
    "                    'servicer_name','exceed_conform']\n",
    "\n",
    "    raw1 = pd.read_csv(dir+file1, sep='|', header=None)\n",
    "    raw1.columns = ['loan_num', 'yearmon', 'curr_upb','curr_delinq','loan_age','remain_months', 'repurchased',\n",
    "                     'modified', 'zero_bal','zero_date','curr_rate','curr_def_upb', 'ddlpi','mi_rec','net_proceeds',\n",
    "                     'non_mi_rec', 'exp', 'legal_costs','maint_exp','tax_insur', 'misc_exp', 'loss','mod_exp']\n",
    "\n",
    "    data = pd.merge(raw, raw1, on='loan_num', how='inner')\n",
    "    #print(data.loan_num)\n",
    "\n",
    "    # all data must have the following: credit_score, ocltv, odti, oltv, oint_rate, curr_upb\n",
    "    # remove any datapoints with missing values from the above features\n",
    "    #data.drop(['seller_name', 'servicer_name', 'first_pmt_date', 'mat_date', 'yearmon'], axis=1, inplace=True)\n",
    "    data.drop(['seller_name', 'servicer_name', 'first_pmt_date', 'mat_date'], axis=1, inplace=True)\n",
    "    data.dropna(subset=['credit_score', 'odti', 'oltv', 'oint_rate', 'curr_upb'], how='any',inplace=True)\n",
    "    #data.fillna(value=0, inplace=True, axis=1)\n",
    "    #data = data[data.curr_delinq!=4]\n",
    "    #data = data.apply(pd.to_numeric, args=('ignore',))\n",
    "    data.credit_score = pd.to_numeric(data['credit_score'], errors='coerce')\n",
    "    #= data.apply(pd.to_numeric, args=('ignore',))\n",
    "    data.yearmon = pd.to_datetime(data['yearmon'], format='%Y%m')\n",
    "    data.fillna(value=0, inplace=True, axis=1)\n",
    "    \n",
    "    return data"
   ]
  },
  {
   "cell_type": "code",
   "execution_count": 3,
   "metadata": {},
   "outputs": [
    {
     "data": {
      "text/plain": [
       "False"
      ]
     },
     "execution_count": 3,
     "metadata": {},
     "output_type": "execute_result"
    }
   ],
   "source": [
    "raw = get_data()\n",
    "raw.isnull().values.any()"
   ]
  },
  {
   "cell_type": "code",
   "execution_count": 4,
   "metadata": {
    "collapsed": true
   },
   "outputs": [],
   "source": [
    "raw.sort_values(['loan_num'], ascending=True).groupby(['yearmon'], as_index=False)  ##consider move this into the next func\n",
    "raw.set_index(['loan_num', 'yearmon'], inplace=True) ## consider move this into the next func"
   ]
  },
  {
   "cell_type": "code",
   "execution_count": 5,
   "metadata": {},
   "outputs": [
    {
     "data": {
      "text/plain": [
       "False"
      ]
     },
     "execution_count": 5,
     "metadata": {},
     "output_type": "execute_result"
    }
   ],
   "source": [
    "raw.isnull().values.any()"
   ]
  },
  {
   "cell_type": "code",
   "execution_count": 8,
   "metadata": {},
   "outputs": [],
   "source": [
    "def process_data(data):\n",
    "    #data.sort_values(['loan_num'], ascending=True).groupby(['yearmon'], as_index=False)  ##consider move this out\n",
    "    #data.set_index(['loan_num', 'yearmon'], inplace=True) ## consider move this out\n",
    "    y = data['curr_delinq']\n",
    "    #data['prev_delinq'] = data.curr_delinq.shift(1) ## needs attention here\n",
    "    data['prev_delinq'] = data.groupby(level=0)['curr_delinq'].shift(1)\n",
    "    print(sum(data.prev_delinq.isnull()))\n",
    "    data.fillna(value=0, inplace=True, axis=1)\n",
    "    data.drop(['curr_delinq'], axis=1, inplace=True)\n",
    "    print(y.shape)\n",
    "    ## how many classes are y?\n",
    "    ## remove y from X\n",
    "    dummy = pd.get_dummies(data, columns=['msa','first_time', 'occ_status', 'channel', 'ppm', 'fixed_rate',\n",
    "                                  'state', 'prop_type', 'loan_purpose', 'exceed_conform', 'repurchased']).values\n",
    "    y = label_binarize(y, classes=[0, 1, 2, 3])\n",
    "    X = scale(dummy, with_mean=False)\n",
    "    return X,y"
   ]
  },
  {
   "cell_type": "code",
   "execution_count": 9,
   "metadata": {},
   "outputs": [
    {
     "name": "stdout",
     "output_type": "stream",
     "text": [
      "24981\n",
      "(203642,)\n"
     ]
    }
   ],
   "source": [
    "train, target = process_data(raw)"
   ]
  },
  {
   "cell_type": "code",
   "execution_count": 10,
   "metadata": {},
   "outputs": [
    {
     "name": "stdout",
     "output_type": "stream",
     "text": [
      "(203642, 510)\n",
      "[[ 16.29859015   0.           4.01181039 ...,  13.85781488   0.           0.        ]\n",
      " [ 16.29859015   0.           4.01181039 ...,  13.85781488   0.           0.        ]\n",
      " [ 16.29859015   0.           4.01181039 ...,  13.85781488   0.           0.        ]\n",
      " ..., \n",
      " [ 16.03500109   0.           4.01181039 ...,  13.85781488   0.           0.        ]\n",
      " [ 16.38645317   2.16318079   4.01181039 ...,  13.85781488   0.           0.        ]\n",
      " [ 17.66046695   2.59581694   4.01181039 ...,  13.85781488   0.           0.        ]]\n",
      "(203642, 4)\n"
     ]
    }
   ],
   "source": [
    "print(train.shape)\n",
    "print(train)\n",
    "print(target.shape)\n",
    "#raw.curr_delinq.value_counts()"
   ]
  },
  {
   "cell_type": "code",
   "execution_count": 11,
   "metadata": {},
   "outputs": [
    {
     "name": "stdout",
     "output_type": "stream",
     "text": [
      "Fitting 5 folds for each of 1 candidates, totalling 5 fits\n"
     ]
    },
    {
     "name": "stderr",
     "output_type": "stream",
     "text": [
      "[Parallel(n_jobs=6)]: Done   2 out of   5 | elapsed:  8.3min remaining: 12.5min\n",
      "[Parallel(n_jobs=6)]: Done   5 out of   5 | elapsed:  8.7min finished\n"
     ]
    },
    {
     "name": "stdout",
     "output_type": "stream",
     "text": [
      "Iteration 1, loss = 0.03741315\n",
      "Iteration 2, loss = 0.02926684\n",
      "Iteration 3, loss = 0.02915577\n",
      "Iteration 4, loss = 0.02907879\n",
      "Iteration 5, loss = 0.02901845\n",
      "Iteration 6, loss = 0.02896933\n",
      "Training loss did not improve more than tol=0.000100 for two consecutive epochs. Stopping.\n",
      "MLPClassifier(activation='relu', alpha=1e-05, batch_size='auto', beta_1=0.9,\n",
      "       beta_2=0.999, early_stopping=False, epsilon=1e-08,\n",
      "       hidden_layer_sizes=(519, 363, 363, 363, 363),\n",
      "       learning_rate='invscaling', learning_rate_init=0.001, max_iter=200,\n",
      "       momentum=0.9, nesterovs_momentum=True, power_t=0.5,\n",
      "       random_state=None, shuffle=True, solver='sgd', tol=0.0001,\n",
      "       validation_fraction=0.1, verbose=True, warm_start=False)\n",
      "0.827419046077\n",
      "[[  9.99150020e-01   7.73622220e-04   7.25456295e-05   2.70122254e-05]\n",
      " [  9.99144372e-01   7.78282464e-04   7.33733577e-05   2.73359475e-05]\n",
      " [  9.99138413e-01   7.83410700e-04   7.41925811e-05   2.77180000e-05]\n",
      " ..., \n",
      " [  9.98991775e-01   8.32815388e-04   1.01924261e-04   3.96039855e-05]\n",
      " [  9.98875235e-01   2.20859735e-03   1.06974046e-04   3.22993161e-05]\n",
      " [  9.97078941e-01   2.01109207e-03   2.08743697e-04   5.42923340e-05]]\n"
     ]
    }
   ],
   "source": [
    "def gridSearch_nn(X, y):\n",
    "    #X_train, y_train, X_test, y_test = train_test_split(X,y)\n",
    "    mlp = MLPClassifier(solver='sgd', alpha=1e-5, shuffle=True, learning_rate='invscaling',\n",
    "         verbose=True)\n",
    "    #mlp.fit(X_train, y_train)\n",
    "    #mat = mlp.predict_proba(X_test)\n",
    "    parameters = {'hidden_layer_sizes':[(519, 363, 363, 363, 363)]}\n",
    "    sss = StratifiedShuffleSplit(n_splits=5, test_size=0.2)  ## no need for this given 50000 random sample\n",
    "    gs = GridSearchCV(estimator=mlp, param_grid=parameters, n_jobs=6, cv=sss, scoring='roc_auc',verbose=5)\n",
    "    gs.fit(X, y)\n",
    "    clf = gs.best_estimator_\n",
    "    print(clf)\n",
    "    print(gs.best_score_)\n",
    "    mat = clf.predict_proba(X)\n",
    "    print(mat)\n",
    "    \n",
    "    return clf, gs.best_score_, mat\n",
    "\n",
    "\n",
    "if  __name__== '__main__':\n",
    "    clf, score, mat = gridSearch_nn(train, target)"
   ]
  },
  {
   "cell_type": "code",
   "execution_count": 12,
   "metadata": {},
   "outputs": [
    {
     "name": "stdout",
     "output_type": "stream",
     "text": [
      "[[  9.99150020e-01   7.73622220e-04   7.25456295e-05   2.70122254e-05]\n",
      " [  9.99144372e-01   7.78282464e-04   7.33733577e-05   2.73359475e-05]\n",
      " [  9.99138413e-01   7.83410700e-04   7.41925811e-05   2.77180000e-05]\n",
      " ..., \n",
      " [  9.98991775e-01   8.32815388e-04   1.01924261e-04   3.96039855e-05]\n",
      " [  9.98875235e-01   2.20859735e-03   1.06974046e-04   3.22993161e-05]\n",
      " [  9.97078941e-01   2.01109207e-03   2.08743697e-04   5.42923340e-05]]\n"
     ]
    }
   ],
   "source": [
    "print(mat)"
   ]
  },
  {
   "cell_type": "markdown",
   "metadata": {
    "collapsed": true
   },
   "source": [
    "##### Note\n",
    "\n",
    "http://scikit-learn.org/stable/auto_examples/model_selection/plot_roc.html"
   ]
  },
  {
   "cell_type": "code",
   "execution_count": null,
   "metadata": {
    "collapsed": true
   },
   "outputs": [],
   "source": []
  }
 ],
 "metadata": {
  "kernelspec": {
   "display_name": "Python 3",
   "language": "python",
   "name": "python3"
  },
  "language_info": {
   "codemirror_mode": {
    "name": "ipython",
    "version": 3
   },
   "file_extension": ".py",
   "mimetype": "text/x-python",
   "name": "python",
   "nbconvert_exporter": "python",
   "pygments_lexer": "ipython3",
   "version": "3.6.1"
  }
 },
 "nbformat": 4,
 "nbformat_minor": 2
}
